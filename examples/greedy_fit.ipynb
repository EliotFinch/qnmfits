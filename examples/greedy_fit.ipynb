{
 "cells": [
  {
   "cell_type": "code",
   "execution_count": 1,
   "id": "caba45d3-3cfa-4a8c-8eba-ed2ba831bed3",
   "metadata": {},
   "outputs": [
    {
     "name": "stdout",
     "output_type": "stream",
     "text": [
      "Skipping download from 'https://data.black-holes.org/catalog.json' because local file is newer\n",
      "Found the following files to load from the SXS catalog:\n",
      "    SXS:BBH:0305v5/Lev6/metadata.json\n",
      "Found the following files to load from the SXS catalog:\n",
      "    SXS:BBH:0305v5/Lev6/rhOverM_Asymptotic_GeometricUnits_CoM.h5\n"
     ]
    }
   ],
   "source": [
    "import numpy as np\n",
    "import matplotlib.pyplot as plt\n",
    "\n",
    "import qnmfits\n",
    "\n",
    "sim = qnmfits.SXS(ID=305, zero_time=(2,2))"
   ]
  },
  {
   "cell_type": "code",
   "execution_count": 3,
   "id": "6b5beb81-5f41-4907-81c1-262b1d3e4c14",
   "metadata": {},
   "outputs": [
    {
     "name": "stdout",
     "output_type": "stream",
     "text": [
      "[(2, 2, 0, 1), (3, 3, 0, 1), (2, 1, 0, 1), (3, 2, 0, 1)]\n"
     ]
    }
   ],
   "source": [
    "spherical_modes = [(2,2), (2,1), (2,0), (3,3), (3,2), (3,1), (3,0)]\n",
    "\n",
    "modes, _, _ = qnmfits.greedy_fit(\n",
    "    sim.times, \n",
    "    sim.h, \n",
    "    Ftarget=0.001, \n",
    "    Nmax=10, \n",
    "    Mf=sim.Mf, \n",
    "    chif=sim.chif_mag, \n",
    "    t0=30, \n",
    "    spherical_modes=spherical_modes\n",
    ")\n",
    "\n",
    "print(modes)"
   ]
  }
 ],
 "metadata": {
  "kernelspec": {
   "display_name": "Python [conda env:qnmfits]",
   "language": "python",
   "name": "conda-env-qnmfits-py"
  },
  "language_info": {
   "codemirror_mode": {
    "name": "ipython",
    "version": 3
   },
   "file_extension": ".py",
   "mimetype": "text/x-python",
   "name": "python",
   "nbconvert_exporter": "python",
   "pygments_lexer": "ipython3",
   "version": "3.10.4"
  }
 },
 "nbformat": 4,
 "nbformat_minor": 5
}
